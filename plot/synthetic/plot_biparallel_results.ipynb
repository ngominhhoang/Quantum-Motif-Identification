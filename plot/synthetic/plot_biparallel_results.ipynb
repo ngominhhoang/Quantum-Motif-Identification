{
 "cells": [
  {
   "cell_type": "code",
   "execution_count": 1,
   "id": "d7d93923",
   "metadata": {},
   "outputs": [],
   "source": [
    "import networkx as nx\n",
    "import pickle\n",
    "import itertools\n",
    "\n",
    "dataset_type = 'synthetic'\n",
    "motif_type = 'biparallel_weighted'\n",
    "size = 'large'\n",
    "results_file_name = '../../dataset/'+dataset_type+'/'+motif_type+'/results.pkl'\n",
    "with open(results_file_name, 'rb') as f:\n",
    "    final_res = pickle.load(f)\n",
    "\n",
    "P = nx.DiGraph()\n",
    "P.add_nodes_from([0, 1, 2, 3])\n",
    "P.add_edges_from([(0, 1), (0, 2), (1, 3), (2,3)])\n",
    "P[0][1]['weight'] = 0\n",
    "P[0][2]['weight'] = 1\n",
    "P[1][3]['weight'] = 0\n",
    "P[2][3]['weight'] = 1"
   ]
  },
  {
   "cell_type": "markdown",
   "id": "e32997c7",
   "metadata": {},
   "source": [
    "# Extract baseline results"
   ]
  },
  {
   "cell_type": "code",
   "execution_count": 2,
   "id": "38bf8cb6",
   "metadata": {},
   "outputs": [
    {
     "name": "stdout",
     "output_type": "stream",
     "text": [
      "../../dataset/synthetic/biparallel_weighted/raw_baseline_results.txt\n"
     ]
    }
   ],
   "source": [
    "baseline_file_name = '../../dataset/'+dataset_type+'/'+motif_type+'/raw_baseline_results.txt'\n",
    "print(baseline_file_name)\n",
    "baseline_results = []\n",
    "saved_motifs = []\n",
    "with open(baseline_file_name, 'r') as f:\n",
    "    while True:\n",
    "        x = f.readline()\n",
    "        #print(x)\n",
    "        if x == '':\n",
    "            break\n",
    "        if x[0] == '-':\n",
    "            continue\n",
    "        if '0' <= x[0] and x[0] <= '9':\n",
    "            arr = x.split('\\t')\n",
    "            test_case = int(arr[0][:-4])\n",
    "            nums_pure_motifs = int(arr[1])\n",
    "            running_time = int(arr[2][:-3])\n",
    "            baseline_results.append({'test_case': test_case, 'nums_pure_motifs': nums_pure_motifs, 'running_time': running_time, 'saved_pure_motifs':saved_motifs})\n",
    "            saved_motifs = []\n",
    "            continue\n",
    "        \n",
    "        arr = x.split(' ')\n",
    "        #baseline_results.append(int(arr[1]))\n",
    "        flag = 0\n",
    "        last_num = -1\n",
    "        motifs = []\n",
    "        for element in arr:\n",
    "            num = ''\n",
    "            for e in element:\n",
    "                if '0' <= e and e <= '9':\n",
    "                    num = num + e\n",
    "            if num == '':\n",
    "                break\n",
    "            if flag == 1:\n",
    "                motifs.append((int(last_num), int(num)))\n",
    "                #print(last_num, num)\n",
    "            last_num = int(num)\n",
    "            flag = 1 - flag\n",
    "        #print(motifs)\n",
    "        saved_motifs.append(motifs)\n",
    "        #break"
   ]
  },
  {
   "cell_type": "code",
   "execution_count": 3,
   "id": "d8b9d8ee",
   "metadata": {},
   "outputs": [],
   "source": [
    "import copy\n",
    "refined_baseline_results = []\n",
    "for t in range(1, 376, 1):\n",
    "    index = int((t-1)/3) + 1\n",
    "    edge_lst = []\n",
    "    #file_name = 'graph_generator/graph_'+str(nums_node)+'Nodes_'+str(degree)+'AvgDegree_'+str(graph_type)+'GraphType_'+str(i)+'_TestCase.txt'\n",
    "    #file_name = 'dataset/'+dataset_type+'/'+motif_type+'/'+size+'/'+str(t)+'.txt'\n",
    "    file_name = '../../dataset/'+dataset_type+'/'+motif_type+'/'+str(t)+'.txt'\n",
    "    weightG = {}\n",
    "    with open(file_name) as f:\n",
    "        while (True):\n",
    "            s = f.readline()\n",
    "            if s == '':\n",
    "                break\n",
    "\n",
    "            lst = list(s[:-1].split(\" \"))\n",
    "            #print(lst)\n",
    "            edge_lst.append((int(lst[0]), int(lst[1])))\n",
    "            #print(lst)\n",
    "            weightG[(int(lst[0]), int(lst[1]))] = int(lst[2])\n",
    "    #G_init = nx.DiGraph()\n",
    "    #G_init.add_edges_from(edge_lst)\n",
    "    new_record = {}\n",
    "    for record in baseline_results:\n",
    "        if record['test_case'] == index:\n",
    "            new_record = copy.copy(record)\n",
    "            break\n",
    "    \n",
    "    new_record['test_case'] = t\n",
    "    refined_saved_motifs = []\n",
    "    refined_nums_motifs = 0\n",
    "    #print(new_record, index)\n",
    "    #print(edge_lst)\n",
    "    try:\n",
    "        for motif in new_record['saved_pure_motifs']:\n",
    "            node_set = list(set(motif[0] + motif[1] + motif[2] + motif[3]))\n",
    "            #print(node_set)\n",
    "            for permu in list(itertools.permutations([0,1,2,3])):\n",
    "                #print(permu)\n",
    "                mapping = {permu[0]: node_set[0], permu[1]: node_set[1], permu[2]: node_set[2], permu[3]: node_set[3]}\n",
    "                #print(mapping,i,j,k)\n",
    "                #mapping = {0: node_set[i], 1: node_set[j], 2: node_set[k]}\n",
    "                check = True\n",
    "                for ed in P.edges():\n",
    "                    if not (mapping[ed[0]], mapping[ed[1]]) in edge_lst:\n",
    "                        check = False\n",
    "                        break\n",
    "                if not check:\n",
    "                    continue\n",
    "                #print(\"INDEX: \",index, mapping)\n",
    "                check_weight = True\n",
    "                for ed in P.edges():\n",
    "                    #print(weightG[(mapping[ed[0]], mapping[ed[1]])], P[ed[0]][ed[1]]['weight'])\n",
    "                    if weightG[(mapping[ed[0]], mapping[ed[1]])] != P[ed[0]][ed[1]]['weight']:\n",
    "                        check_weight = False\n",
    "                        break\n",
    "                if check_weight:\n",
    "                    refined_saved_motifs.append(motif)\n",
    "                    refined_nums_motifs += 1\n",
    "                    break\n",
    "    except:\n",
    "        print(index, t)\n",
    "    new_record['saved_refined_motifs'] = refined_saved_motifs\n",
    "    new_record['nums_refined_motifs'] = refined_nums_motifs\n",
    "    refined_baseline_results.append(new_record)"
   ]
  },
  {
   "cell_type": "markdown",
   "id": "b9ae6da1",
   "metadata": {},
   "source": [
    "# Plot figures"
   ]
  },
  {
   "cell_type": "code",
   "execution_count": 4,
   "id": "be232c72",
   "metadata": {},
   "outputs": [],
   "source": [
    "motif = \"biparallel_weighted\"\n",
    "saved_path = '../../dataset/synthetic/'+motif+'/list_records.pkl'\n",
    "import pickle\n",
    "with open(saved_path, \"rb\") as fp:   #Pickling\n",
    "    list_records = pickle.load(fp)\n",
    "#list_records"
   ]
  },
  {
   "cell_type": "code",
   "execution_count": 5,
   "id": "4ed549f2",
   "metadata": {},
   "outputs": [],
   "source": [
    "plot_qc = {'nums_nodes': {}, 'degree': {}, 'activation_ratio': {}}\n",
    "rtime_qc = {'nums_nodes': {}, 'degree': {}, 'activation_ratio': {}}\n",
    "plot_baseline = {'nums_nodes': {}, 'degree': {}, 'activation_ratio': {}}\n",
    "rtime_baseline = {'nums_nodes': {}, 'degree': {}, 'activation_ratio': {}}\n",
    "\n",
    "for record in list_records:\n",
    "    test_index = record['test_index']\n",
    "    nums_nodes = record['nums_nodes']\n",
    "    degree = record['degree']\n",
    "    activation_ratio = record['activation_ratio']\n",
    "    nums_motifs = final_res[test_index - 1]['nums_motifs']\n",
    "    running_time = final_res[test_index - 1]['running_time']\n",
    "    #print(nums_nodes, degree, activation_ratio, running_time)\n",
    "    \n",
    "    if nums_nodes not in plot_qc['nums_nodes'].keys():\n",
    "        plot_qc['nums_nodes'][nums_nodes] = [nums_motifs]\n",
    "        rtime_qc['nums_nodes'][nums_nodes] = [running_time]\n",
    "    else:\n",
    "        plot_qc['nums_nodes'][nums_nodes].append(nums_motifs)\n",
    "        rtime_qc['nums_nodes'][nums_nodes].append(running_time)\n",
    "        \n",
    "    if degree not in plot_qc['degree'].keys():\n",
    "        plot_qc['degree'][degree] = [nums_motifs]\n",
    "        rtime_qc['degree'][degree] = [running_time]\n",
    "    else:\n",
    "        plot_qc['degree'][degree].append(nums_motifs)\n",
    "        rtime_qc['degree'][degree].append(running_time)\n",
    "        \n",
    "    if activation_ratio not in plot_qc['activation_ratio'].keys():\n",
    "        plot_qc['activation_ratio'][activation_ratio] = [nums_motifs]\n",
    "        rtime_qc['activation_ratio'][activation_ratio] = [running_time]\n",
    "    else:\n",
    "        plot_qc['activation_ratio'][activation_ratio].append(nums_motifs)\n",
    "        rtime_qc['activation_ratio'][activation_ratio].append(running_time)\n",
    "\n",
    "for record in list_records:\n",
    "    test_index = record['test_index']\n",
    "    nums_nodes = record['nums_nodes']\n",
    "    degree = record['degree']\n",
    "    activation_ratio = record['activation_ratio']\n",
    "    nums_motifs = refined_baseline_results[test_index - 1]['nums_refined_motifs']\n",
    "    running_time = refined_baseline_results[test_index - 1]['running_time']\n",
    "    \n",
    "    if nums_nodes not in plot_baseline['nums_nodes'].keys():\n",
    "        plot_baseline['nums_nodes'][nums_nodes] = [nums_motifs]\n",
    "        rtime_baseline['nums_nodes'][nums_nodes] = [running_time]\n",
    "    else:\n",
    "        plot_baseline['nums_nodes'][nums_nodes].append(nums_motifs)\n",
    "        rtime_baseline['nums_nodes'][nums_nodes].append(running_time)\n",
    "        \n",
    "    if degree not in plot_baseline['degree'].keys():\n",
    "        plot_baseline['degree'][degree] = [nums_motifs]\n",
    "        rtime_baseline['degree'][degree] = [running_time]\n",
    "    else:\n",
    "        plot_baseline['degree'][degree].append(nums_motifs)\n",
    "        rtime_baseline['degree'][degree].append(running_time)\n",
    "        \n",
    "    if activation_ratio not in plot_baseline['activation_ratio'].keys():\n",
    "        plot_baseline['activation_ratio'][activation_ratio] = [nums_motifs]\n",
    "        rtime_baseline['activation_ratio'][activation_ratio] = [running_time]\n",
    "    else:\n",
    "        plot_baseline['activation_ratio'][activation_ratio].append(nums_motifs)\n",
    "        rtime_baseline['activation_ratio'][activation_ratio].append(running_time)"
   ]
  },
  {
   "cell_type": "code",
   "execution_count": 6,
   "id": "955d2629",
   "metadata": {},
   "outputs": [
    {
     "data": {
      "image/png": "[encoded data removed]",
      "text/plain": [
       "<Figure size 432x288 with 1 Axes>"
      ]
     },
     "metadata": {
      "needs_background": "light"
     },
     "output_type": "display_data"
    }
   ],
   "source": [
    "# importing pandas library \n",
    "import pandas as pd \n",
    "# import matplotlib library \n",
    "import matplotlib.pyplot as plt\n",
    "from statistics import mean \n",
    "import numpy as np\n",
    "  \n",
    "# creating dataframe\n",
    "\n",
    "list_nums_nodes = [200, 400, 600, 800, 1000]\n",
    "list_qc = []\n",
    "list_baseline = []\n",
    "for nums in list_nums_nodes:\n",
    "    arr = np.array(rtime_qc['nums_nodes'][nums])\n",
    "    list_qc.append(arr[arr > -1].mean())\n",
    "    #print(arr[arr > -1].mean())\n",
    "    list_baseline.append(mean(rtime_baseline['nums_nodes'][nums])/1000)\n",
    "\n",
    "df_nums_nodes = pd.DataFrame({ \n",
    "    'nums_nodes': list_nums_nodes, \n",
    "    'QOMIC': list_qc, \n",
    "    'Baseline': list_baseline\n",
    "})\n",
    "\n",
    "plt.rc('font', size=15)\n",
    "plt.rc('xtick', labelsize=15)\n",
    "plt.rc('ytick', labelsize=15)\n",
    "# plotting graph \n",
    "ax = df_nums_nodes.plot(x=\"nums_nodes\", y=[\"QOMIC\", \"Baseline\"], kind=\"bar\", rot=0, xlabel = 'The number of nodes', \n",
    "                   ylabel = 'Running time')\n",
    "df_nums_nodes[['QOMIC', 'Baseline']].plot(linestyle='-', marker='o', legend=False, ax=ax)\n",
    "#plt.show()\n",
    "plt.savefig(\"../../figure/biparallel_running_time.pdf\", format=\"pdf\", bbox_inches=\"tight\")\n",
    "#plt.savefig(\"sample_plot.pdf\", dpi = 300)"
   ]
  },
  {
   "cell_type": "code",
   "execution_count": 7,
   "id": "32699ff2",
   "metadata": {},
   "outputs": [
    {
     "data": {
      "image/png": "[encoded data removed]",
      "text/plain": [
       "<Figure size 432x288 with 1 Axes>"
      ]
     },
     "metadata": {
      "needs_background": "light"
     },
     "output_type": "display_data"
    }
   ],
   "source": [
    "# importing pandas library \n",
    "import pandas as pd \n",
    "# import matplotlib library \n",
    "import matplotlib.pyplot as plt\n",
    "from statistics import mean \n",
    "  \n",
    "# creating dataframe\n",
    "\n",
    "list_nums_nodes = [200, 400, 600, 800, 1000]\n",
    "list_qc = []\n",
    "list_baseline = []\n",
    "for nums in list_nums_nodes:\n",
    "    list_qc.append(mean(plot_qc['nums_nodes'][nums]))\n",
    "    list_baseline.append(mean(plot_baseline['nums_nodes'][nums]))\n",
    "\n",
    "df_nums_nodes = pd.DataFrame({ \n",
    "    'nums_nodes': list_nums_nodes, \n",
    "    'QOMIC': list_qc, \n",
    "    'Baseline': list_baseline\n",
    "})\n",
    "plt.rc('font', size=15)\n",
    "plt.rc('xtick', labelsize=15)\n",
    "plt.rc('ytick', labelsize=15)\n",
    "# plotting graph \n",
    "df_nums_nodes.plot(x=\"nums_nodes\", y=[\"QOMIC\", \"Baseline\"], kind=\"bar\", rot=0, xlabel = 'The number of nodes', \n",
    "                   ylabel = 'Motif count')\n",
    "plt.savefig(\"../../figure/biparallel_nums_nodes.pdf\", format=\"pdf\", bbox_inches=\"tight\")\n"
   ]
  },
  {
   "cell_type": "code",
   "execution_count": 8,
   "id": "6ddf4447",
   "metadata": {},
   "outputs": [
    {
     "data": {
      "image/png": "[encoded data removed]",
      "text/plain": [
       "<Figure size 432x288 with 1 Axes>"
      ]
     },
     "metadata": {
      "needs_background": "light"
     },
     "output_type": "display_data"
    }
   ],
   "source": [
    "# importing pandas library \n",
    "import pandas as pd \n",
    "# import matplotlib library \n",
    "import matplotlib.pyplot as plt\n",
    "from statistics import mean \n",
    "  \n",
    "# creating dataframe\n",
    "\n",
    "list_degree = [2, 4, 6, 8, 10]\n",
    "list_qc = []\n",
    "list_baseline = []\n",
    "for nums in list_degree:\n",
    "    list_qc.append(mean(plot_qc['degree'][nums]))\n",
    "    list_baseline.append(mean(plot_baseline['degree'][nums]))\n",
    "\n",
    "df_degree = pd.DataFrame({ \n",
    "    'degree': list_degree, \n",
    "    'QOMIC': list_qc, \n",
    "    'Baseline': list_baseline\n",
    "})\n",
    "# plotting graph \n",
    "df_degree.plot(x=\"degree\", y=[\"QOMIC\", \"Baseline\"], kind=\"bar\", rot=0, xlabel = 'Average degree', \n",
    "                   ylabel = 'Motif count') \n",
    "plt.savefig(\"../../figure/biparallel_degree.pdf\", format=\"pdf\", bbox_inches=\"tight\")\n"
   ]
  },
  {
   "cell_type": "code",
   "execution_count": 9,
   "id": "270f5a2e",
   "metadata": {},
   "outputs": [
    {
     "data": {
      "image/png": "[encoded data removed]",
      "text/plain": [
       "<Figure size 432x288 with 1 Axes>"
      ]
     },
     "metadata": {
      "needs_background": "light"
     },
     "output_type": "display_data"
    }
   ],
   "source": [
    "# importing pandas library \n",
    "import pandas as pd \n",
    "# import matplotlib library \n",
    "import matplotlib.pyplot as plt\n",
    "from statistics import mean \n",
    "  \n",
    "# creating dataframe\n",
    "\n",
    "list_activation_ratio = [0.2, 0.5, 0.8]\n",
    "list_qc = []\n",
    "list_baseline = []\n",
    "for nums in list_activation_ratio:\n",
    "    list_qc.append(mean(plot_qc['activation_ratio'][nums]))\n",
    "    list_baseline.append(mean(plot_baseline['activation_ratio'][nums]))\n",
    "\n",
    "df_degree = pd.DataFrame({ \n",
    "    'activation_ratio': list_activation_ratio, \n",
    "    'QOMIC': list_qc, \n",
    "    'Baseline': list_baseline\n",
    "})\n",
    "# plotting graph \n",
    "df_degree.plot(x=\"activation_ratio\", y=[\"QOMIC\", \"Baseline\"], kind=\"bar\", rot=0, xlabel = 'Activation ratio', \n",
    "                   ylabel = 'Motif count').legend(bbox_to_anchor=(0.4, 1))\n",
    "plt.savefig(\"../../figure/biparallel_ratio.pdf\", format=\"pdf\", bbox_inches=\"tight\")\n"
   ]
  }
 ],
 "metadata": {
  "kernelspec": {
   "display_name": "Python 3 (ipykernel)",
   "language": "python",
   "name": "python3"
  },
  "language_info": {
   "codemirror_mode": {
    "name": "ipython",
    "version": 3
   },
   "file_extension": ".py",
   "mimetype": "text/x-python",
   "name": "python",
   "nbconvert_exporter": "python",
   "pygments_lexer": "ipython3",
   "version": "3.9.7"
  }
 },
 "nbformat": 4,
 "nbformat_minor": 5
}

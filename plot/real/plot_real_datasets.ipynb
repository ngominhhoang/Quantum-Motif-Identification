{
 "cells": [
  {
   "cell_type": "code",
   "execution_count": 1,
   "id": "5c884f70",
   "metadata": {},
   "outputs": [],
   "source": [
    "import networkx as nx\n",
    "import time\n",
    "from scipy.optimize import minimize\n",
    "from qiskit import QuantumCircuit, Aer\n",
    "from qiskit.circuit import Parameter\n",
    "import numpy\n",
    "from joblib import Parallel, delayed\n",
    "import pickle"
   ]
  },
  {
   "cell_type": "markdown",
   "id": "d1932ff4",
   "metadata": {},
   "source": [
    "# Experiment 1 - Table"
   ]
  },
  {
   "cell_type": "code",
   "execution_count": 3,
   "id": "a8fde855",
   "metadata": {},
   "outputs": [],
   "source": [
    "all_res = {}\n",
    "for motif_type in ['cascade', 'FFL', 'bifan', 'biparallel']:\n",
    "    dataset_type = 'real'\n",
    "    results_file_name = '../../dataset/'+dataset_type+'/'+motif_type+'_results.pkl'\n",
    "    with open(results_file_name, 'rb') as f:\n",
    "        all_res[motif_type] = pickle.load(f)"
   ]
  },
  {
   "cell_type": "code",
   "execution_count": 11,
   "id": "2e70a4e3",
   "metadata": {},
   "outputs": [
    {
     "name": "stdout",
     "output_type": "stream",
     "text": [
      "cascade\n",
      "Alzheimers\n",
      "MC =  7.0\n",
      "AC =  3 RC =  4\n",
      "Parkinsons\n",
      "MC =  5.0\n",
      "AC =  6 RC =  2\n",
      "Huntingtons\n",
      "MC =  7.0\n",
      "AC =  4 RC =  5\n",
      "ALS\n",
      "MC =  6.0\n",
      "AC =  2 RC =  1\n",
      "MND\n",
      "MC =  1.0\n",
      "AC =  1 RC =  1\n",
      "FFL\n",
      "Alzheimers\n",
      "MC =  52.0\n",
      "AC =  43 RC =  37\n",
      "Parkinsons\n",
      "MC =  48.0\n",
      "AC =  36 RC =  27\n",
      "Huntingtons\n",
      "MC =  32.0\n",
      "AC =  24 RC =  26\n",
      "ALS\n",
      "MC =  32.0\n",
      "AC =  17 RC =  24\n",
      "MND\n",
      "MC =  3.0\n",
      "AC =  1 RC =  3\n",
      "bifan\n",
      "Alzheimers\n",
      "MC =  72.0\n",
      "AC =  85 RC =  57\n",
      "Parkinsons\n",
      "MC =  55.0\n",
      "AC =  62 RC =  36\n",
      "Huntingtons\n",
      "MC =  41.0\n",
      "AC =  51 RC =  30\n",
      "ALS\n",
      "MC =  40.0\n",
      "AC =  41 RC =  29\n",
      "MND\n",
      "MC =  5.0\n",
      "AC =  6 RC =  6\n",
      "biparallel\n",
      "Alzheimers\n",
      "MC =  27.0\n",
      "AC =  27 RC =  25\n",
      "Parkinsons\n",
      "MC =  22.0\n",
      "AC =  19 RC =  18\n",
      "Huntingtons\n",
      "MC =  12.0\n",
      "AC =  13 RC =  13\n",
      "ALS\n",
      "MC =  12.0\n",
      "AC =  15 RC =  8\n",
      "MND\n",
      "MC =  1.0\n",
      "AC =  0 RC =  0\n"
     ]
    }
   ],
   "source": [
    "all_sum = []\n",
    "all_sum_disease = {}\n",
    "count_all_act = 0\n",
    "count_all_rep = 0\n",
    "for k in all_res.keys():\n",
    "    summ = 0\n",
    "    print(k)\n",
    "    for record in all_res[k]:\n",
    "        print(record['disease'])\n",
    "        print('MC = ',record['nums_motifs'])\n",
    "        if record['disease'] not in all_sum_disease.keys():\n",
    "            all_sum_disease[record['disease']] = record['nums_motifs']\n",
    "        else:\n",
    "            all_sum_disease[record['disease']] += record['nums_motifs']\n",
    "        summ += record['nums_motifs']\n",
    "        mapping_path = '../../dataset/real/mapping_OR_minGDA_0.0_'+record['disease']+'.pkl'\n",
    "        mapping_genes = []\n",
    "        with open(mapping_path, \"rb\") as fp:   #Pickling\n",
    "            mapping_genes = pickle.load(fp)\n",
    "        #mapping_genes\n",
    "        file_name = '../../dataset/real/' + 'OR' + \"_minGDA_\" + '0.0' + \"_\" + record['disease'] + \".txt\"\n",
    "        weightG = {}\n",
    "        edge_lst = []\n",
    "        with open(file_name) as f:\n",
    "            while (True):\n",
    "                s = f.readline()\n",
    "                if s == '':\n",
    "                    break\n",
    "                lst = list(s[:-1].split(\" \"))\n",
    "                edge_lst.append((int(lst[0]), int(lst[1])))\n",
    "                weightG[(int(lst[0]), int(lst[1]))] = int(lst[2])\n",
    "        count_activation = 0\n",
    "        count_repression = 0\n",
    "        for motif in record['saved_motifs']:\n",
    "            new_motif = []\n",
    "            for ed in motif:\n",
    "                new_motif.append((mapping_genes[ed[0]], mapping_genes[ed[1]]))\n",
    "                if weightG[(ed[0],ed[1])] == 0:\n",
    "                    count_activation += 1\n",
    "                elif weightG[(ed[0],ed[1])] == 1:\n",
    "                    count_repression += 1\n",
    "        print('AC = ',count_activation, 'RC = ',count_repression)\n",
    "        count_all_act += count_activation\n",
    "        count_all_rep += count_repression\n",
    "    all_sum.append(summ)"
   ]
  },
  {
   "cell_type": "markdown",
   "id": "574e6efa",
   "metadata": {},
   "source": [
    "# Experiment 2 - Extract common genes"
   ]
  },
  {
   "cell_type": "code",
   "execution_count": 17,
   "id": "de775142",
   "metadata": {},
   "outputs": [],
   "source": [
    "motif_type = 'bifan'"
   ]
  },
  {
   "cell_type": "code",
   "execution_count": 18,
   "id": "3b83fc26",
   "metadata": {},
   "outputs": [],
   "source": [
    "gene_association = {}\n",
    "for record in all_res[motif_type]:\n",
    "    mapping_path = '../../dataset/real/mapping_OR_minGDA_0.0_'+record['disease']+'.pkl'\n",
    "    mapping_genes = []\n",
    "    with open(mapping_path, \"rb\") as fp:   #Pickling\n",
    "        mapping_genes = pickle.load(fp)\n",
    "    #mapping_genes\n",
    "    for motif in record['saved_motifs']:\n",
    "        for ed in motif:\n",
    "            for j in range(0,2,1):\n",
    "                if mapping_genes[ed[j]] not in gene_association.keys():\n",
    "                    gene_association[mapping_genes[ed[j]]] = {'count': 1, 'disease': [record['disease']]}\n",
    "                else:\n",
    "                    if record['disease'] not in gene_association[mapping_genes[ed[j]]]['disease']:\n",
    "                        gene_association[mapping_genes[ed[j]]]['count'] += 1\n",
    "                        gene_association[mapping_genes[ed[j]]]['disease'].append(record['disease'])"
   ]
  },
  {
   "cell_type": "code",
   "execution_count": 19,
   "id": "3a1347b7",
   "metadata": {},
   "outputs": [],
   "source": [
    "count_genes_by_frequency = [0,0,0,0,0]\n",
    "count_unique_genes_by_disease = {'Alzheimers': 0, 'Parkinsons': 0, 'Huntingtons': 0, 'ALS': 0, 'MND':0}\n",
    "\n",
    "for k in gene_association.keys():\n",
    "    count_genes_by_frequency[gene_association[k]['count']-1] += 1\n",
    "    if gene_association[k]['count'] == 1:\n",
    "        count_unique_genes_by_disease[gene_association[k]['disease'][0]] += 1"
   ]
  },
  {
   "cell_type": "code",
   "execution_count": 20,
   "id": "a0335ebf",
   "metadata": {},
   "outputs": [
    {
     "data": {
      "text/plain": [
       "{'Alzheimers': 108, 'Parkinsons': 53, 'Huntingtons': 34, 'ALS': 31, 'MND': 3}"
      ]
     },
     "execution_count": 20,
     "metadata": {},
     "output_type": "execute_result"
    }
   ],
   "source": [
    "count_unique_genes_by_disease"
   ]
  },
  {
   "cell_type": "code",
   "execution_count": 22,
   "id": "36ed321e",
   "metadata": {},
   "outputs": [
    {
     "data": {
      "image/png": "[encoded data removed]",
      "text/plain": [
       "<Figure size 432x288 with 1 Axes>"
      ]
     },
     "metadata": {
      "needs_background": "light"
     },
     "output_type": "display_data"
    }
   ],
   "source": [
    "import matplotlib.pyplot as plt\n",
    "import numpy as np\n",
    " \n",
    "# create data\n",
    "x = ['1', '2', '3', '4', '5']\n",
    "y_all = np.array(count_genes_by_frequency)\n",
    "y_all[0] = 0\n",
    "y_Alzheimers = np.array([0, 0, 0, 0, 0])\n",
    "y_Alzheimers[0] = count_unique_genes_by_disease['Alzheimers']\n",
    "y_Parkinsons = np.array([0, 0, 0, 0, 0])\n",
    "y_Parkinsons[0] = count_unique_genes_by_disease['Parkinsons']\n",
    "y_Huntingtons = np.array([0, 0, 0, 0, 0])\n",
    "y_Huntingtons[0] = count_unique_genes_by_disease['Huntingtons']\n",
    "y_ALS = np.array([0, 0, 0, 0, 0])\n",
    "y_ALS[0] = count_unique_genes_by_disease['ALS']\n",
    "y_MND = np.array([0, 0, 0, 0, 0])\n",
    "y_MND[0] = count_unique_genes_by_disease['MND']\n",
    "\n",
    "# plot bars in stack manner\n",
    "plt.bar(x, y_Alzheimers, color='b')\n",
    "plt.bar(x, y_Parkinsons, bottom=y_Alzheimers, color='y')\n",
    "plt.bar(x, y_Huntingtons, bottom=y_Alzheimers+y_Parkinsons, color='g')\n",
    "plt.bar(x, y_ALS, bottom=y_Alzheimers+y_Parkinsons+y_Huntingtons, color='cyan')\n",
    "plt.bar(x, y_MND, bottom=y_Alzheimers+y_Parkinsons+y_Huntingtons+y_ALS, color='r')\n",
    "plt.bar(x, y_all, color='gray')\n",
    "ax = plt.gca()\n",
    "#ax.set_ylim([0, 150])\n",
    "plt.ylabel(\"The number of genes\")\n",
    "plt.xlabel(\"The number of gene appearance\")\n",
    "plt.legend([\"Alzheimers\", \"Parkinsons\", \"Huntingtons\", \"ALS\", \"MND\"])\n",
    "plt.title(\"Gene distribution of \"+ motif_type+\" motifs in five diseases\")\n",
    "plt.show()"
   ]
  },
  {
   "cell_type": "markdown",
   "id": "8c2cf2c6",
   "metadata": {},
   "source": [
    "# Experiment 3 - Statistical significance"
   ]
  },
  {
   "cell_type": "code",
   "execution_count": 134,
   "id": "620c8f71",
   "metadata": {},
   "outputs": [],
   "source": [
    "# generate random graphs\n",
    "\n",
    "disease_list = ['Alzheimers', 'Parkinsons', 'Huntingtons', 'ALS', 'MND']\n",
    "\n",
    "for disease in disease_list:\n",
    "    for index in range(0, 100):\n",
    "        file_name = '../../dataset/real/' + 'OR' + \"_minGDA_\" + '0.0' + \"_\" + disease + \".txt\"\n",
    "        weightG = {}\n",
    "        edge_lst = []\n",
    "        with open(file_name) as f:\n",
    "            while (True):\n",
    "                s = f.readline()\n",
    "                if s == '':\n",
    "                    break\n",
    "\n",
    "                lst = list(s[:-1].split(\" \"))\n",
    "                #print(lst)\n",
    "                edge_lst.append((int(lst[0]), int(lst[1])))\n",
    "                #print(lst)\n",
    "                weightG[(int(lst[0]), int(lst[1]))] = int(lst[2])\n",
    "        G = nx.Graph()\n",
    "        G.add_edges_from(edge_lst)\n",
    "        new_edges = []\n",
    "        for i in range(len(edge_lst)):\n",
    "            ed_0 = random.choice(list(G.nodes))\n",
    "            ed_1 = random.choice(list(G.nodes))\n",
    "            while not (ed_0, ed_1) in new_edges and ed_0 == ed_1:\n",
    "                ed_0 = random.choice(list(G.nodes))\n",
    "                ed_1 = random.choice(list(G.nodes))\n",
    "            new_edges.append((ed_0, ed_1))\n",
    "            #print(ed_0, ed_1)\n",
    "        outpath = '../../dataset/real/random_graphs/'+disease+'/'+str(index)+'.txt'\n",
    "        with open(outpath, 'w') as f:\n",
    "            for ed in new_edges:\n",
    "                f.write(str(ed[0])+' '+str(ed[1])+'\\n')"
   ]
  },
  {
   "cell_type": "code",
   "execution_count": 25,
   "id": "eb27ef33",
   "metadata": {},
   "outputs": [
    {
     "name": "stdout",
     "output_type": "stream",
     "text": [
      "Alzheimers Cascade -0.26438635111017433\n",
      "Alzheimers FFL 6.931679628465463\n",
      "Alzheimers Bifan 14.587175915727018\n",
      "Alzheimers Biparallel -0.44267571232971664\n",
      "Parkinsons Cascade -0.08677789592263543\n",
      "Parkinsons FFL 8.807564172304591\n",
      "Parkinsons Bifan 14.042873445861312\n",
      "Parkinsons Biparallel 0.9179559198227712\n",
      "Huntingtons Cascade 1.6234787014920702\n",
      "Huntingtons FFL 5.9027745760027575\n",
      "Huntingtons Bifan 14.633487211372575\n",
      "Huntingtons Biparallel -0.21320376964793292\n",
      "ALS Cascade 0.5\n",
      "ALS FFL 5.0245016939552825\n",
      "ALS Bifan 11.15543552317528\n",
      "ALS Biparallel -1.1153236152450732\n",
      "MND Cascade -0.0503154605426628\n",
      "MND FFL -0.011704916453677069\n",
      "MND Bifan 4.009739135281762\n",
      "MND Biparallel -0.8812010746015723\n"
     ]
    }
   ],
   "source": [
    "import statistics\n",
    "\n",
    "motif_list = ['Cascade', 'FFL', 'Bifan', 'Biparallel']\n",
    "motif_list_lowercase = ['cascade', 'FFL', 'bifan', 'biparallel']\n",
    "for disease in disease_list:\n",
    "    countt = 0\n",
    "    for motif in motif_list:\n",
    "        nums_motifs = -1\n",
    "        motif_ = motif_list_lowercase[countt]\n",
    "        countt += 1\n",
    "        for record in all_res[motif_]:\n",
    "            if record['disease'] == disease:\n",
    "                nums_motifs = record['nums_motifs']\n",
    "                break\n",
    "        saved = []\n",
    "        path = '../../dataset/real/random_results/Random_'+disease+'_'+motif+'_Results.txt'\n",
    "        with open(path, 'r') as f:\n",
    "            while True:\n",
    "                line = f.readline()\n",
    "                if line == '':\n",
    "                    break\n",
    "                saved.append(int(line[:-1].split('\\t')[1]))\n",
    "        saved_std = statistics.pstdev(saved)\n",
    "        saved_mean = statistics.mean(saved)\n",
    "        print(disease,motif,(nums_motifs - saved_mean)/saved_std)\n",
    "        #print(saved, nums_motifs)"
   ]
  }
 ],
 "metadata": {
  "kernelspec": {
   "display_name": "Python 3 (ipykernel)",
   "language": "python",
   "name": "python3"
  },
  "language_info": {
   "codemirror_mode": {
    "name": "ipython",
    "version": 3
   },
   "file_extension": ".py",
   "mimetype": "text/x-python",
   "name": "python",
   "nbconvert_exporter": "python",
   "pygments_lexer": "ipython3",
   "version": "3.9.7"
  }
 },
 "nbformat": 4,
 "nbformat_minor": 5
}

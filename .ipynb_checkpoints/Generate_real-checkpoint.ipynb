{
 "cells": [
  {
   "cell_type": "code",
   "execution_count": 1,
   "id": "1ed28637",
   "metadata": {},
   "outputs": [],
   "source": [
    "import pandas as pd"
   ]
  },
  {
   "cell_type": "code",
   "execution_count": 2,
   "id": "ad9378ff",
   "metadata": {},
   "outputs": [
    {
     "name": "stdout",
     "output_type": "stream",
     "text": [
      "                  Disease Disease_id     Gene  Gene_id UniProt  Score_gda\n",
      "0     Alzheimer's Disease   C0002395      ACE     1636  P12821       0.90\n",
      "1     Alzheimer's Disease   C0002395      APP      351  P05067       0.90\n",
      "2     Alzheimer's Disease   C0002395   ADAM10      102  O14672       0.70\n",
      "3     Alzheimer's Disease   C0002395    GSK3B     2932  P49841       0.70\n",
      "4     Alzheimer's Disease   C0002395      HFE     3077  Q30201       0.70\n",
      "...                   ...        ...      ...      ...     ...        ...\n",
      "3392  Alzheimer's Disease   C0002395   HS3ST1     9957  O14792       0.01\n",
      "3393  Alzheimer's Disease   C0002395    MED12     9968  Q93074       0.01\n",
      "3394  Alzheimer's Disease   C0002395   NUP153     9972  P49790       0.01\n",
      "3395  Alzheimer's Disease   C0002395      CCS     9973  O14618       0.01\n",
      "3396  Alzheimer's Disease   C0002395  HNRNPDL     9987  O14979       0.01\n",
      "\n",
      "[3397 rows x 6 columns]\n"
     ]
    }
   ],
   "source": [
    "df = pd.read_excel('C0002395_disease_gda_summary.xlsx')\n",
    "df = df[list(df.loc[:, :'UniProt']) + ['Score_gda']]\n",
    "print(df)"
   ]
  },
  {
   "cell_type": "code",
   "execution_count": 3,
   "id": "32c6b29e",
   "metadata": {},
   "outputs": [
    {
     "name": "stdout",
     "output_type": "stream",
     "text": [
      "                  Disease Disease_id     Gene  Gene_id UniProt  Score_gda\n",
      "0     Alzheimer's Disease   C0002395      ACE     1636  P12821       0.90\n",
      "1     Alzheimer's Disease   C0002395      APP      351  P05067       0.90\n",
      "2     Alzheimer's Disease   C0002395   ADAM10      102  O14672       0.70\n",
      "3     Alzheimer's Disease   C0002395    GSK3B     2932  P49841       0.70\n",
      "4     Alzheimer's Disease   C0002395      HFE     3077  Q30201       0.70\n",
      "...                   ...        ...      ...      ...     ...        ...\n",
      "3073  Alzheimer's Disease   C0002395   HS3ST1     9957  O14792       0.01\n",
      "3074  Alzheimer's Disease   C0002395    MED12     9968  Q93074       0.01\n",
      "3075  Alzheimer's Disease   C0002395   NUP153     9972  P49790       0.01\n",
      "3076  Alzheimer's Disease   C0002395      CCS     9973  O14618       0.01\n",
      "3077  Alzheimer's Disease   C0002395  HNRNPDL     9987  O14979       0.01\n",
      "\n",
      "[3078 rows x 6 columns]\n"
     ]
    }
   ],
   "source": [
    "df = df.drop_duplicates(subset=['UniProt'], keep='first').reset_index(drop=True)\n",
    "print(df)"
   ]
  },
  {
   "cell_type": "code",
   "execution_count": 4,
   "id": "dac1d3cd",
   "metadata": {},
   "outputs": [
    {
     "name": "stdout",
     "output_type": "stream",
     "text": [
      "                  Disease Disease_id     Gene  Gene_id UniProt  Score_gda\n",
      "0     Alzheimer's Disease   C0002395      ACE     1636  P12821       0.90\n",
      "1     Alzheimer's Disease   C0002395      APP      351  P05067       0.90\n",
      "2     Alzheimer's Disease   C0002395   ADAM10      102  O14672       0.70\n",
      "3     Alzheimer's Disease   C0002395    GSK3B     2932  P49841       0.70\n",
      "4     Alzheimer's Disease   C0002395      HFE     3077  Q30201       0.70\n",
      "...                   ...        ...      ...      ...     ...        ...\n",
      "3046  Alzheimer's Disease   C0002395   HS3ST1     9957  O14792       0.01\n",
      "3047  Alzheimer's Disease   C0002395    MED12     9968  Q93074       0.01\n",
      "3048  Alzheimer's Disease   C0002395   NUP153     9972  P49790       0.01\n",
      "3049  Alzheimer's Disease   C0002395      CCS     9973  O14618       0.01\n",
      "3050  Alzheimer's Disease   C0002395  HNRNPDL     9987  O14979       0.01\n",
      "\n",
      "[3051 rows x 6 columns]\n"
     ]
    }
   ],
   "source": [
    "df = df[df['UniProt'].str.len() == 6].reset_index(drop=True)\n",
    "print(df)"
   ]
  },
  {
   "cell_type": "code",
   "execution_count": 5,
   "id": "0710ffc5",
   "metadata": {},
   "outputs": [
    {
     "name": "stdout",
     "output_type": "stream",
     "text": [
      "                 Disease Disease_id     Gene  Gene_id UniProt  Score_gda\n",
      "0    Alzheimer's Disease   C0002395      ACE     1636  P12821        0.9\n",
      "1    Alzheimer's Disease   C0002395      APP      351  P05067        0.9\n",
      "2    Alzheimer's Disease   C0002395   ADAM10      102  O14672        0.7\n",
      "3    Alzheimer's Disease   C0002395    GSK3B     2932  P49841        0.7\n",
      "4    Alzheimer's Disease   C0002395      HFE     3077  Q30201        0.7\n",
      "..                   ...        ...      ...      ...     ...        ...\n",
      "105  Alzheimer's Disease   C0002395      NGB    58157  Q9NPG2        0.3\n",
      "106  Alzheimer's Disease   C0002395    S100B     6285  P04271        0.3\n",
      "107  Alzheimer's Disease   C0002395     SOD1     6647  P00441        0.3\n",
      "108  Alzheimer's Disease   C0002395      SYP     6855  P08247        0.3\n",
      "109  Alzheimer's Disease   C0002395  ADAMTS1     9510  Q9UHI8        0.3\n",
      "\n",
      "[110 rows x 6 columns]\n"
     ]
    }
   ],
   "source": [
    "df = df[df['Score_gda'] >= 0.3].reset_index(drop=True)\n",
    "print(df)"
   ]
  },
  {
   "cell_type": "code",
   "execution_count": 6,
   "id": "f0a31641",
   "metadata": {},
   "outputs": [
    {
     "name": "stdout",
     "output_type": "stream",
     "text": [
      "110\n"
     ]
    }
   ],
   "source": [
    "array = df['UniProt'].to_numpy()\n",
    "print(len(array))"
   ]
  },
  {
   "cell_type": "code",
   "execution_count": 7,
   "id": "4f25e44e",
   "metadata": {},
   "outputs": [
    {
     "name": "stdout",
     "output_type": "stream",
     "text": [
      "Fetched: 109 / 109\n",
      "{'results': [{'from': 'P12821', 'to': '9606.ENSP00000290866'}, {'from': 'P05067', 'to': '9606.ENSP00000284981'}, {'from': 'O14672', 'to': '9606.ENSP00000260408'}, {'from': 'P49841', 'to': '9606.ENSP00000324806'}, {'from': 'Q30201', 'to': '9606.ENSP00000417404'}, {'from': 'P02649', 'to': '9606.ENSP00000252486'}, {'from': 'P10636', 'to': '9606.ENSP00000340820'}, {'from': 'Q9NZC2', 'to': '9606.ENSP00000362205'}, {'from': 'P49768', 'to': '9606.ENSP00000326366'}, {'from': 'P00749', 'to': '9606.ENSP00000361850'}, {'from': 'P56817', 'to': '9606.ENSP00000318585'}, {'from': 'P14735', 'to': '9606.ENSP00000265986'}, {'from': 'P01584', 'to': '9606.ENSP00000263341'}, {'from': 'P06213', 'to': '9606.ENSP00000303830'}, {'from': 'P41159', 'to': '9606.ENSP00000312652'}, {'from': 'P01303', 'to': '9606.ENSP00000384364'}, {'from': 'P10415', 'to': '9606.ENSP00000381185'}, {'from': 'P23560', 'to': '9606.ENSP00000414303'}, {'from': 'P42574', 'to': '9606.ENSP00000311032'}, {'from': 'P01344', 'to': '9606.ENSP00000391826'}, {'from': 'P08069', 'to': '9606.ENSP00000268035'}, {'from': 'P25705', 'to': '9606.ENSP00000381736'}, {'from': 'P01308', 'to': '9606.ENSP00000380432'}, {'from': 'Q07812', 'to': '9606.ENSP00000293288'}, {'from': 'Q8IZY2', 'to': '9606.ENSP00000263094'}, {'from': 'O96008', 'to': '9606.ENSP00000410339'}, {'from': 'P10909', 'to': '9606.ENSP00000315130'}, {'from': 'P01023', 'to': '9606.ENSP00000323929'}, {'from': 'P21709', 'to': '9606.ENSP00000275815'}, {'from': 'Q9Y5K6', 'to': '9606.ENSP00000352264'}, {'from': 'O00499', 'to': '9606.ENSP00000316779'}, {'from': 'P02654', 'to': '9606.ENSP00000465356'}, {'from': 'P05164', 'to': '9606.ENSP00000225275'}, {'from': 'P29474', 'to': '9606.ENSP00000297494'}, {'from': 'P49810', 'to': '9606.ENSP00000355747'}, {'from': 'Q92673', 'to': '9606.ENSP00000260197'}, {'from': 'Q13492', 'to': '9606.ENSP00000377015'}, {'from': 'P62760', 'to': '9606.ENSP00000384719'}, {'from': 'Q92835', 'to': '9606.ENSP00000405338'}, {'from': 'Q92692', 'to': '9606.ENSP00000252483'}, {'from': 'Q96JQ5', 'to': '9606.ENSP00000338648'}, {'from': 'Q9BZA7', 'to': '9606.ENSP00000362186'}, {'from': 'Q9NQ75', 'to': '9606.ENSP00000353462'}, {'from': 'Q9Y6A2', 'to': '9606.ENSP00000261835'}, {'from': 'P01034', 'to': '9606.ENSP00000381448'}, {'from': 'P10635', 'to': '9606.ENSP00000353820'}, {'from': 'Q15392', 'to': '9606.ENSP00000360316'}, {'from': 'Q16555', 'to': '9606.ENSP00000309539'}, {'from': 'P03372', 'to': '9606.ENSP00000405330'}, {'from': 'Q92542', 'to': '9606.ENSP00000294785'}, {'from': 'P09601', 'to': '9606.ENSP00000216117'}, {'from': 'P05019', 'to': '9606.ENSP00000302665'}, {'from': 'P05231', 'to': '9606.ENSP00000385675'}, {'from': 'P27338', 'to': '9606.ENSP00000367309'}, {'from': 'P22303', 'to': '9606.ENSP00000303211'}, {'from': 'P42898', 'to': '9606.ENSP00000365777'}, {'from': 'P37231', 'to': '9606.ENSP00000287820'}, {'from': 'P78509', 'to': '9606.ENSP00000392423'}, {'from': 'P06276', 'to': '9606.ENSP00000264381'}, {'from': 'Q00059', 'to': '9606.ENSP00000420588'}, {'from': 'P01375', 'to': '9606.ENSP00000398698'}, {'from': 'P15692', 'to': '9606.ENSP00000478570'}, {'from': 'P20138', 'to': '9606.ENSP00000262262'}, {'from': 'P06850', 'to': '9606.ENSP00000276571'}, {'from': 'P04179', 'to': '9606.ENSP00000446252'}, {'from': 'P16885', 'to': '9606.ENSP00000482457'}, {'from': 'O95185', 'to': '9606.ENSP00000406022'}, {'from': 'Q9P2A4', 'to': '9606.ENSP00000225941'}, {'from': 'Q9NZC7', 'to': '9606.ENSP00000457230'}, {'from': 'P02787', 'to': '9606.ENSP00000385834'}, {'from': 'P17787', 'to': '9606.ENSP00000357461'}, {'from': 'Q6NXT4', 'to': '9606.ENSP00000368648'}, {'from': 'O00264', 'to': '9606.ENSP00000217971'}, {'from': 'P05198', 'to': '9606.ENSP00000256383'}, {'from': 'P00734', 'to': '9606.ENSP00000308541'}, {'from': 'Q7LC44', 'to': '9606.ENSP00000349022'}, {'from': 'P06733', 'to': '9606.ENSP00000234590'}, {'from': 'Q30154', 'to': '9606.ENSP00000364114'}, {'from': 'P11717', 'to': '9606.ENSP00000349437'}, {'from': 'P60174', 'to': '9606.ENSP00000229270'}, {'from': 'Q8N0W5', 'to': '9606.ENSP00000324901'}, {'from': 'Q9UKV5', 'to': '9606.ENSP00000290649'}, {'from': 'P14672', 'to': '9606.ENSP00000320935'}, {'from': 'O14863', 'to': '9606.ENSP00000261867'}, {'from': 'Q00535', 'to': '9606.ENSP00000419782'}, {'from': 'Q9UBK2', 'to': '9606.ENSP00000264867'}, {'from': 'P28329', 'to': '9606.ENSP00000337103'}, {'from': 'O14773', 'to': '9606.ENSP00000299427'}, {'from': 'Q16539', 'to': '9606.ENSP00000229795'}, {'from': 'P35222', 'to': '9606.ENSP00000344456'}, {'from': 'Q15109', 'to': '9606.ENSP00000364210'}, {'from': 'P04406', 'to': '9606.ENSP00000229239'}, {'from': 'O14556', 'to': '9606.ENSP00000222286'}, {'from': 'P35568', 'to': '9606.ENSP00000304895'}, {'from': 'Q07954', 'to': '9606.ENSP00000243077'}, {'from': 'P11137', 'to': '9606.ENSP00000353508'}, {'from': 'P08473', 'to': '9606.ENSP00000418525'}, {'from': 'Q16236', 'to': '9606.ENSP00000380252'}, {'from': 'P01138', 'to': '9606.ENSP00000358525'}, {'from': 'P08138', 'to': '9606.ENSP00000172229'}, {'from': 'P35228', 'to': '9606.ENSP00000327251'}, {'from': 'Q13526', 'to': '9606.ENSP00000247970'}, {'from': 'P10082', 'to': '9606.ENSP00000353198'}, {'from': 'P35354', 'to': '9606.ENSP00000356438'}, {'from': 'Q9NPG2', 'to': '9606.ENSP00000298352'}, {'from': 'P04271', 'to': '9606.ENSP00000291700'}, {'from': 'P00441', 'to': '9606.ENSP00000270142'}, {'from': 'P08247', 'to': '9606.ENSP00000263233'}, {'from': 'Q9UHI8', 'to': '9606.ENSP00000284984'}], 'failedIds': ['P17927']}\n"
     ]
    }
   ],
   "source": [
    "import re\n",
    "import time\n",
    "import json\n",
    "import zlib\n",
    "from xml.etree import ElementTree\n",
    "from urllib.parse import urlparse, parse_qs, urlencode\n",
    "import requests\n",
    "from requests.adapters import HTTPAdapter, Retry\n",
    "\n",
    "\n",
    "POLLING_INTERVAL = 3\n",
    "API_URL = \"https://rest.uniprot.org\"\n",
    "\n",
    "\n",
    "retries = Retry(total=5, backoff_factor=0.25, status_forcelist=[500, 502, 503, 504])\n",
    "session = requests.Session()\n",
    "session.mount(\"https://\", HTTPAdapter(max_retries=retries))\n",
    "\n",
    "\n",
    "def check_response(response):\n",
    "    try:\n",
    "        response.raise_for_status()\n",
    "    except requests.HTTPError:\n",
    "        print(response.json())\n",
    "        raise\n",
    "\n",
    "\n",
    "def submit_id_mapping(from_db, to_db, ids):\n",
    "    request = requests.post(\n",
    "        f\"{API_URL}/idmapping/run\",\n",
    "        data={\"from\": from_db, \"to\": to_db, \"ids\": \",\".join(ids)},\n",
    "    )\n",
    "    check_response(request)\n",
    "    return request.json()[\"jobId\"]\n",
    "\n",
    "\n",
    "def get_next_link(headers):\n",
    "    re_next_link = re.compile(r'<(.+)>; rel=\"next\"')\n",
    "    if \"Link\" in headers:\n",
    "        match = re_next_link.match(headers[\"Link\"])\n",
    "        if match:\n",
    "            return match.group(1)\n",
    "\n",
    "\n",
    "def check_id_mapping_results_ready(job_id):\n",
    "    while True:\n",
    "        request = session.get(f\"{API_URL}/idmapping/status/{job_id}\")\n",
    "        check_response(request)\n",
    "        j = request.json()\n",
    "        if \"jobStatus\" in j:\n",
    "            if j[\"jobStatus\"] == \"RUNNING\":\n",
    "                print(f\"Retrying in {POLLING_INTERVAL}s\")\n",
    "                time.sleep(POLLING_INTERVAL)\n",
    "            else:\n",
    "                raise Exception(j[\"jobStatus\"])\n",
    "        else:\n",
    "            return bool(j[\"results\"] or j[\"failedIds\"])\n",
    "\n",
    "\n",
    "def get_batch(batch_response, file_format, compressed):\n",
    "    batch_url = get_next_link(batch_response.headers)\n",
    "    while batch_url:\n",
    "        batch_response = session.get(batch_url)\n",
    "        batch_response.raise_for_status()\n",
    "        yield decode_results(batch_response, file_format, compressed)\n",
    "        batch_url = get_next_link(batch_response.headers)\n",
    "\n",
    "\n",
    "def combine_batches(all_results, batch_results, file_format):\n",
    "    if file_format == \"json\":\n",
    "        for key in (\"results\", \"failedIds\"):\n",
    "            if key in batch_results and batch_results[key]:\n",
    "                all_results[key] += batch_results[key]\n",
    "    elif file_format == \"tsv\":\n",
    "        return all_results + batch_results[1:]\n",
    "    else:\n",
    "        return all_results + batch_results\n",
    "    return all_results\n",
    "\n",
    "\n",
    "def get_id_mapping_results_link(job_id):\n",
    "    url = f\"{API_URL}/idmapping/details/{job_id}\"\n",
    "    request = session.get(url)\n",
    "    check_response(request)\n",
    "    return request.json()[\"redirectURL\"]\n",
    "\n",
    "\n",
    "def decode_results(response, file_format, compressed):\n",
    "    if compressed:\n",
    "        decompressed = zlib.decompress(response.content, 16 + zlib.MAX_WBITS)\n",
    "        if file_format == \"json\":\n",
    "            j = json.loads(decompressed.decode(\"utf-8\"))\n",
    "            return j\n",
    "        elif file_format == \"tsv\":\n",
    "            return [line for line in decompressed.decode(\"utf-8\").split(\"\\n\") if line]\n",
    "        elif file_format == \"xlsx\":\n",
    "            return [decompressed]\n",
    "        elif file_format == \"xml\":\n",
    "            return [decompressed.decode(\"utf-8\")]\n",
    "        else:\n",
    "            return decompressed.decode(\"utf-8\")\n",
    "    elif file_format == \"json\":\n",
    "        return response.json()\n",
    "    elif file_format == \"tsv\":\n",
    "        return [line for line in response.text.split(\"\\n\") if line]\n",
    "    elif file_format == \"xlsx\":\n",
    "        return [response.content]\n",
    "    elif file_format == \"xml\":\n",
    "        return [response.text]\n",
    "    return response.text\n",
    "\n",
    "\n",
    "def get_xml_namespace(element):\n",
    "    m = re.match(r\"\\{(.*)\\}\", element.tag)\n",
    "    return m.groups()[0] if m else \"\"\n",
    "\n",
    "\n",
    "def merge_xml_results(xml_results):\n",
    "    merged_root = ElementTree.fromstring(xml_results[0])\n",
    "    for result in xml_results[1:]:\n",
    "        root = ElementTree.fromstring(result)\n",
    "        for child in root.findall(\"{http://uniprot.org/uniprot}entry\"):\n",
    "            merged_root.insert(-1, child)\n",
    "    ElementTree.register_namespace(\"\", get_xml_namespace(merged_root[0]))\n",
    "    return ElementTree.tostring(merged_root, encoding=\"utf-8\", xml_declaration=True)\n",
    "\n",
    "\n",
    "def print_progress_batches(batch_index, size, total):\n",
    "    n_fetched = min((batch_index + 1) * size, total)\n",
    "    print(f\"Fetched: {n_fetched} / {total}\")\n",
    "\n",
    "\n",
    "def get_id_mapping_results_search(url):\n",
    "    parsed = urlparse(url)\n",
    "    query = parse_qs(parsed.query)\n",
    "    file_format = query[\"format\"][0] if \"format\" in query else \"json\"\n",
    "    if \"size\" in query:\n",
    "        size = int(query[\"size\"][0])\n",
    "    else:\n",
    "        size = 500\n",
    "        query[\"size\"] = size\n",
    "    compressed = (\n",
    "        query[\"compressed\"][0].lower() == \"true\" if \"compressed\" in query else False\n",
    "    )\n",
    "    parsed = parsed._replace(query=urlencode(query, doseq=True))\n",
    "    url = parsed.geturl()\n",
    "    request = session.get(url)\n",
    "    check_response(request)\n",
    "    results = decode_results(request, file_format, compressed)\n",
    "    total = int(request.headers[\"x-total-results\"])\n",
    "    print_progress_batches(0, size, total)\n",
    "    for i, batch in enumerate(get_batch(request, file_format, compressed), 1):\n",
    "        results = combine_batches(results, batch, file_format)\n",
    "        print_progress_batches(i, size, total)\n",
    "    if file_format == \"xml\":\n",
    "        return merge_xml_results(results)\n",
    "    return results\n",
    "\n",
    "\n",
    "def get_id_mapping_results_stream(url):\n",
    "    if \"/stream/\" not in url:\n",
    "        url = url.replace(\"/results/\", \"/results/stream/\")\n",
    "    request = session.get(url)\n",
    "    check_response(request)\n",
    "    parsed = urlparse(url)\n",
    "    query = parse_qs(parsed.query)\n",
    "    file_format = query[\"format\"][0] if \"format\" in query else \"json\"\n",
    "    compressed = (\n",
    "        query[\"compressed\"][0].lower() == \"true\" if \"compressed\" in query else False\n",
    "    )\n",
    "    return decode_results(request, file_format, compressed)\n",
    "\n",
    "\n",
    "job_id = submit_id_mapping(\n",
    "    from_db=\"UniProtKB_AC-ID\", to_db=\"STRING\", ids=array\n",
    ")\n",
    "if check_id_mapping_results_ready(job_id):\n",
    "    link = get_id_mapping_results_link(job_id)\n",
    "    results = get_id_mapping_results_search(link)\n",
    "    # Equivalently using the stream endpoint which is more demanding\n",
    "    # on the API and so is less stable:\n",
    "    # results = get_id_mapping_results_stream(link)\n",
    "\n",
    "print(results)\n",
    "# {'results': [{'from': 'P05067', 'to': 'CHEMBL2487'}], 'failedIds': ['P12345']}"
   ]
  },
  {
   "cell_type": "code",
   "execution_count": 8,
   "id": "4cb4b10a",
   "metadata": {},
   "outputs": [
    {
     "name": "stdout",
     "output_type": "stream",
     "text": [
      "                 Disease Disease_id     Gene  Gene_id UniProt  Score_gda\n",
      "0    Alzheimer's Disease   C0002395      ACE     1636  P12821        0.9\n",
      "1    Alzheimer's Disease   C0002395      APP      351  P05067        0.9\n",
      "2    Alzheimer's Disease   C0002395   ADAM10      102  O14672        0.7\n",
      "3    Alzheimer's Disease   C0002395    GSK3B     2932  P49841        0.7\n",
      "4    Alzheimer's Disease   C0002395      HFE     3077  Q30201        0.7\n",
      "..                   ...        ...      ...      ...     ...        ...\n",
      "104  Alzheimer's Disease   C0002395      NGB    58157  Q9NPG2        0.3\n",
      "105  Alzheimer's Disease   C0002395    S100B     6285  P04271        0.3\n",
      "106  Alzheimer's Disease   C0002395     SOD1     6647  P00441        0.3\n",
      "107  Alzheimer's Disease   C0002395      SYP     6855  P08247        0.3\n",
      "108  Alzheimer's Disease   C0002395  ADAMTS1     9510  Q9UHI8        0.3\n",
      "\n",
      "[109 rows x 6 columns]\n"
     ]
    }
   ],
   "source": [
    "list_id = []\n",
    "for id in df['UniProt']:\n",
    "  if id in set(results['failedIds']):\n",
    "    list_id.append(id)\n",
    "df = df[~(df['UniProt'].isin(list_id))].reset_index(drop=True)\n",
    "print(df)"
   ]
  },
  {
   "cell_type": "code",
   "execution_count": 9,
   "id": "8a50b9ea",
   "metadata": {},
   "outputs": [
    {
     "name": "stdout",
     "output_type": "stream",
     "text": [
      "                 Disease Disease_id     Gene  Gene_id UniProt  Score_gda  \\\n",
      "0    Alzheimer's Disease   C0002395      ACE     1636  P12821        0.9   \n",
      "1    Alzheimer's Disease   C0002395      APP      351  P05067        0.9   \n",
      "2    Alzheimer's Disease   C0002395   ADAM10      102  O14672        0.7   \n",
      "3    Alzheimer's Disease   C0002395    GSK3B     2932  P49841        0.7   \n",
      "4    Alzheimer's Disease   C0002395      HFE     3077  Q30201        0.7   \n",
      "..                   ...        ...      ...      ...     ...        ...   \n",
      "104  Alzheimer's Disease   C0002395      NGB    58157  Q9NPG2        0.3   \n",
      "105  Alzheimer's Disease   C0002395    S100B     6285  P04271        0.3   \n",
      "106  Alzheimer's Disease   C0002395     SOD1     6647  P00441        0.3   \n",
      "107  Alzheimer's Disease   C0002395      SYP     6855  P08247        0.3   \n",
      "108  Alzheimer's Disease   C0002395  ADAMTS1     9510  Q9UHI8        0.3   \n",
      "\n",
      "                   String  \n",
      "0    9606.ENSP00000290866  \n",
      "1    9606.ENSP00000284981  \n",
      "2    9606.ENSP00000260408  \n",
      "3    9606.ENSP00000324806  \n",
      "4    9606.ENSP00000417404  \n",
      "..                    ...  \n",
      "104  9606.ENSP00000298352  \n",
      "105  9606.ENSP00000291700  \n",
      "106  9606.ENSP00000270142  \n",
      "107  9606.ENSP00000263233  \n",
      "108  9606.ENSP00000284984  \n",
      "\n",
      "[109 rows x 7 columns]\n"
     ]
    },
    {
     "name": "stderr",
     "output_type": "stream",
     "text": [
      "/tmp/ipykernel_654986/4082963851.py:21: SettingWithCopyWarning: \n",
      "A value is trying to be set on a copy of a slice from a DataFrame\n",
      "\n",
      "See the caveats in the documentation: https://pandas.pydata.org/pandas-docs/stable/user_guide/indexing.html#returning-a-view-versus-a-copy\n",
      "  df['String'][index] = dict_[df['UniProt'][index]]\n"
     ]
    }
   ],
   "source": [
    "# Old version of adding String column corresponding to UniProt. Much slower than new version.\n",
    "\"\"\"\n",
    "df = df.assign(String=None)\n",
    "for i in range(len(df['UniProt'])):\n",
    "  for j in range(len(results['results'])):\n",
    "    if df['UniProt'][i] == results['results'][j]['from']:\n",
    "      df['String'][i] = results['results'][j]['to']\n",
    "print(df)\n",
    "\"\"\"\n",
    "\n",
    "dict_ = {}\n",
    "for it in results['results']:\n",
    "  dict_[it['from']] = it['to']\n",
    "\n",
    "df = df.assign(String=None)\n",
    "lst_idx = []\n",
    "for index, row in df.iterrows():\n",
    "  if df['UniProt'][index] in set(results['failedIds']):\n",
    "    lst_idx.append(index)\n",
    "  else:\n",
    "    df['String'][index] = dict_[df['UniProt'][index]]\n",
    "df = df.drop(lst_idx)\n",
    "df = df.reset_index(drop=True)\n",
    "print(df)"
   ]
  },
  {
   "cell_type": "code",
   "execution_count": 10,
   "id": "b153f0b2",
   "metadata": {},
   "outputs": [
    {
     "name": "stdout",
     "output_type": "stream",
     "text": [
      "                      protein1              protein2  combined_score\n",
      "0         9606.ENSP00000000233  9606.ENSP00000356607             173\n",
      "1         9606.ENSP00000000233  9606.ENSP00000427567             154\n",
      "2         9606.ENSP00000000233  9606.ENSP00000253413             151\n",
      "3         9606.ENSP00000000233  9606.ENSP00000493357             471\n",
      "4         9606.ENSP00000000233  9606.ENSP00000324127             201\n",
      "...                        ...                   ...             ...\n",
      "13715399  9606.ENSP00000501317  9606.ENSP00000475489             195\n",
      "13715400  9606.ENSP00000501317  9606.ENSP00000370447             158\n",
      "13715401  9606.ENSP00000501317  9606.ENSP00000312272             226\n",
      "13715402  9606.ENSP00000501317  9606.ENSP00000402092             169\n",
      "13715403  9606.ENSP00000501317  9606.ENSP00000404074             251\n",
      "\n",
      "[13715404 rows x 3 columns]\n"
     ]
    }
   ],
   "source": [
    "df_1_ = pd.read_table('9606.protein.links.v12.0.txt', delim_whitespace=True)\n",
    "print(df_1_)"
   ]
  },
  {
   "cell_type": "code",
   "execution_count": 15,
   "id": "e4e2b1c6",
   "metadata": {},
   "outputs": [
    {
     "name": "stdout",
     "output_type": "stream",
     "text": [
      "                    protein1              protein2  combined_score\n",
      "0       9606.ENSP00000000233  9606.ENSP00000262305             952\n",
      "1       9606.ENSP00000000412  9606.ENSP00000438085             993\n",
      "2       9606.ENSP00000000412  9606.ENSP00000371175             957\n",
      "3       9606.ENSP00000000412  9606.ENSP00000349437             991\n",
      "4       9606.ENSP00000001008  9606.ENSP00000351646             979\n",
      "...                      ...                   ...             ...\n",
      "117113  9606.ENSP00000501277  9606.ENSP00000268679             991\n",
      "117114  9606.ENSP00000501277  9606.ENSP00000294339             999\n",
      "117115  9606.ENSP00000501277  9606.ENSP00000264824             968\n",
      "117116  9606.ENSP00000501317  9606.ENSP00000305071             978\n",
      "117117  9606.ENSP00000501317  9606.ENSP00000296785             973\n",
      "\n",
      "[117118 rows x 3 columns]\n"
     ]
    }
   ],
   "source": [
    "df_1 = df_1_[df_1_['combined_score'] >= 950].reset_index(drop=True)\n",
    "print(df_1)"
   ]
  },
  {
   "cell_type": "code",
   "execution_count": 16,
   "id": "9ed4c140",
   "metadata": {},
   "outputs": [
    {
     "name": "stdout",
     "output_type": "stream",
     "text": [
      "                 protein1              protein2  combined_score\n",
      "0    9606.ENSP00000172229  9606.ENSP00000414303             999\n",
      "1    9606.ENSP00000172229  9606.ENSP00000358525             999\n",
      "2    9606.ENSP00000172229  9606.ENSP00000284981             959\n",
      "3    9606.ENSP00000216117  9606.ENSP00000380252             989\n",
      "4    9606.ENSP00000222286  9606.ENSP00000229270             999\n",
      "..                    ...                   ...             ...\n",
      "143  9606.ENSP00000420588  9606.ENSP00000264867             988\n",
      "144  9606.ENSP00000446252  9606.ENSP00000264867             973\n",
      "145  9606.ENSP00000446252  9606.ENSP00000270142             994\n",
      "146  9606.ENSP00000465356  9606.ENSP00000252486             999\n",
      "147  9606.ENSP00000465356  9606.ENSP00000315130             969\n",
      "\n",
      "[148 rows x 3 columns]\n"
     ]
    }
   ],
   "source": [
    "df_2 = df_1[df_1['protein1'].isin(df['String']) & df_1['protein2'].isin(df['String'])].reset_index(drop=True)\n",
    "# df_1 = df_1[df_1['protein1'].isin(df['String']) & df_1['protein2'].isin(df['String'])].reset_index(drop=True)\n",
    "print(df_2)"
   ]
  },
  {
   "cell_type": "code",
   "execution_count": 17,
   "id": "5c46e482",
   "metadata": {},
   "outputs": [],
   "source": [
    "edge_lst = []\n",
    "for index, row in df_2.iterrows():\n",
    "    edge_lst.append((row[0], row[1]))\n",
    "    #break"
   ]
  },
  {
   "cell_type": "code",
   "execution_count": 30,
   "id": "eb3e38fa",
   "metadata": {},
   "outputs": [
    {
     "data": {
      "text/plain": [
       "3"
      ]
     },
     "execution_count": 30,
     "metadata": {},
     "output_type": "execute_result"
    }
   ],
   "source": [
    "nx.number_connected_components(G)"
   ]
  },
  {
   "cell_type": "code",
   "execution_count": 18,
   "id": "9e170a11",
   "metadata": {},
   "outputs": [
    {
     "data": {
      "image/png": "[encoded data removed]",
      "text/plain": [
       "<Figure size 432x288 with 1 Axes>"
      ]
     },
     "metadata": {},
     "output_type": "display_data"
    }
   ],
   "source": [
    "import networkx as nx\n",
    "\n",
    "G = nx.Graph()\n",
    "G.add_edges_from(edge_lst)\n",
    "nx.draw(G, with_labels = False, node_size = 1)"
   ]
  }
 ],
 "metadata": {
  "kernelspec": {
   "display_name": "Python 3 (ipykernel)",
   "language": "python",
   "name": "python3"
  },
  "language_info": {
   "codemirror_mode": {
    "name": "ipython",
    "version": 3
   },
   "file_extension": ".py",
   "mimetype": "text/x-python",
   "name": "python",
   "nbconvert_exporter": "python",
   "pygments_lexer": "ipython3",
   "version": "3.9.7"
  }
 },
 "nbformat": 4,
 "nbformat_minor": 5
}

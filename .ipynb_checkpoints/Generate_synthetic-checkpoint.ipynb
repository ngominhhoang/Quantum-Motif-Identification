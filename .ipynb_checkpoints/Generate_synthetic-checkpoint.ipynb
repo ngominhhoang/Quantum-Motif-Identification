{
 "cells": [
  {
   "cell_type": "code",
   "execution_count": 43,
   "id": "078fcba2",
   "metadata": {},
   "outputs": [
    {
     "name": "stdout",
     "output_type": "stream",
     "text": [
      "dataset/synthetic/bifan/1.txt"
     ]
    }
   ],
   "source": [
    "from subprocess import call\n",
    "\n",
    "countt = 1\n",
    "for num_nodes in range(200, 2000, 20):\n",
    "    #num_nodes = 20\n",
    "    num_layers = 1 #fixed\n",
    "    motif_type = 1 #(1 = Bifan, 2 = Biparallel, 3 = Cascade, 4 = FFL)\n",
    "    avg_degree = 3\n",
    "    edge_ratio = round(random.uniform(0.2, 0.35),2)\n",
    "    planted_motif_ratio = 1#fixed\n",
    "    mutation_rate = 1#fixed\n",
    "    graph_type = 2#1 = ER, 2 = BA\n",
    "    path = 'dataset/synthetic/bifan/large/'\n",
    "    test_case = countt\n",
    "    countt = countt + 1\n",
    "    command = ['./graph_generator/SyntheticGraphGenerator-multipleTest',\n",
    "               str(num_nodes), str(num_layers), str(motif_type), str(avg_degree),\n",
    "               str(edge_ratio), str(planted_motif_ratio), str(mutation_rate), str(graph_type), str(path), str(test_case)]\n",
    "    call(command)\n",
    "    break"
   ]
  },
  {
   "cell_type": "code",
   "execution_count": 34,
   "id": "f82d7a8f",
   "metadata": {},
   "outputs": [
    {
     "data": {
      "text/plain": [
       "0.24"
      ]
     },
     "execution_count": 34,
     "metadata": {},
     "output_type": "execute_result"
    }
   ],
   "source": [
    "import random\n",
    "round(random.uniform(0.2, 0.35),2)"
   ]
  },
  {
   "cell_type": "code",
   "execution_count": 6,
   "id": "06952ff2",
   "metadata": {},
   "outputs": [
    {
     "name": "stdout",
     "output_type": "stream",
     "text": [
      " ./graph_generator/SyntheticGraphGenerator-multipleTest 20 1 3 3 0.2 1 1 2 dataset/test/ 1\n"
     ]
    }
   ],
   "source": [
    "s = ''\n",
    "for c in command:\n",
    "     s = s +' '+ c\n",
    "print(s)"
   ]
  }
 ],
 "metadata": {
  "kernelspec": {
   "display_name": "Python 3 (ipykernel)",
   "language": "python",
   "name": "python3"
  },
  "language_info": {
   "codemirror_mode": {
    "name": "ipython",
    "version": 3
   },
   "file_extension": ".py",
   "mimetype": "text/x-python",
   "name": "python",
   "nbconvert_exporter": "python",
   "pygments_lexer": "ipython3",
   "version": "3.9.7"
  }
 },
 "nbformat": 4,
 "nbformat_minor": 5
}
